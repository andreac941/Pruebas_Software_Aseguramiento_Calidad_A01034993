{
  "nbformat": 4,
  "nbformat_minor": 0,
  "metadata": {
    "colab": {
      "provenance": [],
      "authorship_tag": "ABX9TyNPyjJdxZ7dpsekdn/E3NxA",
      "include_colab_link": true
    },
    "kernelspec": {
      "name": "python3",
      "display_name": "Python 3"
    },
    "language_info": {
      "name": "python"
    }
  },
  "cells": [
    {
      "cell_type": "markdown",
      "metadata": {
        "id": "view-in-github",
        "colab_type": "text"
      },
      "source": [
        "<a href=\"https://colab.research.google.com/github/andreac941/Pruebas_Software_Aseguramiento_Calidad_A01034993/blob/main/A01034993_A6_2_test.ipynb\" target=\"_parent\"><img src=\"https://colab.research.google.com/assets/colab-badge.svg\" alt=\"Open In Colab\"/></a>"
      ]
    },
    {
      "cell_type": "code",
      "execution_count": 1,
      "metadata": {
        "colab": {
          "base_uri": "https://localhost:8080/",
          "height": 297
        },
        "id": "ZNF-GoLF0Rmt",
        "outputId": "5d129f3c-e6d1-4326-ffcb-e0526881a48c"
      },
      "outputs": [
        {
          "output_type": "stream",
          "name": "stderr",
          "text": [
            "E\n",
            "======================================================================\n",
            "ERROR: /root/ (unittest.loader._FailedTest)\n",
            "----------------------------------------------------------------------\n",
            "AttributeError: module '__main__' has no attribute '/root/'\n",
            "\n",
            "----------------------------------------------------------------------\n",
            "Ran 1 test in 0.003s\n",
            "\n",
            "FAILED (errors=1)\n"
          ]
        },
        {
          "output_type": "error",
          "ename": "SystemExit",
          "evalue": "True",
          "traceback": [
            "An exception has occurred, use %tb to see the full traceback.\n",
            "\u001b[0;31mSystemExit\u001b[0m\u001b[0;31m:\u001b[0m True\n"
          ]
        },
        {
          "output_type": "stream",
          "name": "stderr",
          "text": [
            "/usr/local/lib/python3.10/dist-packages/IPython/core/interactiveshell.py:3561: UserWarning: To exit: use 'exit', 'quit', or Ctrl-D.\n",
            "  warn(\"To exit: use 'exit', 'quit', or Ctrl-D.\", stacklevel=1)\n"
          ]
        }
      ],
      "source": [
        "import unittest\n",
        "\n",
        "class Hotel:\n",
        "    def __init__(self, name, location, rooms):\n",
        "        self.name = name\n",
        "        self.location = location\n",
        "        self.rooms = rooms\n",
        "\n",
        "    def create_reservation(self, customer):\n",
        "        pass\n",
        "\n",
        "    def cancel_reservation(self, reservation):\n",
        "        pass\n",
        "\n",
        "    # Define other methods as per requirements\n",
        "\n",
        "\n",
        "class Reservation:\n",
        "    def __init__(self, customer, hotel, room_number, start_date, end_date):\n",
        "        self.customer = customer\n",
        "        self.hotel = hotel\n",
        "        self.room_number = room_number\n",
        "        self.start_date = start_date\n",
        "        self.end_date = end_date\n",
        "\n",
        "    # Define other methods as per requirements\n",
        "\n",
        "\n",
        "class Customer:\n",
        "    def __init__(self, name, email, phone):\n",
        "        self.name = name\n",
        "        self.email = email\n",
        "        self.phone = phone\n",
        "\n",
        "    # Define other methods as per requirements\n",
        "\n",
        "\n",
        "class TestHotelMethods(unittest.TestCase):\n",
        "    def setUp(self):\n",
        "        # Initialize objects or load necessary data for testing\n",
        "        pass\n",
        "\n",
        "    def test_create_reservation(self):\n",
        "        # Test the create_reservation method\n",
        "        pass\n",
        "\n",
        "    def test_cancel_reservation(self):\n",
        "        # Test the cancel_reservation method\n",
        "        pass\n",
        "\n",
        "    # Add more test methods for other Hotel methods\n",
        "\n",
        "\n",
        "class TestReservationMethods(unittest.TestCase):\n",
        "    def setUp(self):\n",
        "        # Initialize objects or load necessary data for testing\n",
        "        pass\n",
        "\n",
        "    def test_create_reservation(self):\n",
        "        # Test the create_reservation method\n",
        "        pass\n",
        "\n",
        "    def test_cancel_reservation(self):\n",
        "        # Test the cancel_reservation method\n",
        "        pass\n",
        "\n",
        "    # Add more test methods for other Reservation methods\n",
        "\n",
        "\n",
        "class TestCustomerMethods(unittest.TestCase):\n",
        "    def setUp(self):\n",
        "        # Initialize objects or load necessary data for testing\n",
        "        pass\n",
        "\n",
        "    def test_create_customer(self):\n",
        "        # Test the create_customer method\n",
        "        pass\n",
        "\n",
        "    def test_delete_customer(self):\n",
        "        # Test the delete_customer method\n",
        "        pass\n",
        "\n",
        "    # Add more test methods for other Customer methods\n",
        "\n",
        "\n",
        "if __name__ == '__main__':\n",
        "    unittest.main()"
      ]
    }
  ]
}