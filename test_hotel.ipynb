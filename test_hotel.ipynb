{
  "nbformat": 4,
  "nbformat_minor": 0,
  "metadata": {
    "colab": {
      "provenance": [],
      "authorship_tag": "ABX9TyMKttPhZbaZLFeWGPha1ikh",
      "include_colab_link": true
    },
    "kernelspec": {
      "name": "python3",
      "display_name": "Python 3"
    },
    "language_info": {
      "name": "python"
    }
  },
  "cells": [
    {
      "cell_type": "markdown",
      "metadata": {
        "id": "view-in-github",
        "colab_type": "text"
      },
      "source": [
        "<a href=\"https://colab.research.google.com/github/andreac941/Pruebas_Software_Aseguramiento_Calidad_A01034993/blob/main/test_hotel.ipynb\" target=\"_parent\"><img src=\"https://colab.research.google.com/assets/colab-badge.svg\" alt=\"Open In Colab\"/></a>"
      ]
    },
    {
      "cell_type": "code",
      "execution_count": null,
      "metadata": {
        "id": "S1NR_9V-1yfA"
      },
      "outputs": [],
      "source": [
        "import unittest\n",
        "from hotel_management import Hotel, Reservation, Customer\n",
        "\n",
        "\n",
        "class TestHotelMethods(unittest.TestCase):\n",
        "    def setUp(self):\n",
        "        self.hotel = Hotel(\"Test Hotel\", \"Test Location\", 10)\n",
        "\n",
        "    def test_create_reservation(self):\n",
        "        customer = Customer(\"John Doe\", \"john@example.com\", \"123456789\")\n",
        "        room_number = 1\n",
        "        start_date = \"2024-02-20\"\n",
        "        end_date = \"2024-02-25\"\n",
        "        reservation = self.hotel.create_reservation(customer, room_number, start_date, end_date)\n",
        "        self.assertIn(reservation, self.hotel.reservations)\n",
        "\n",
        "    def test_cancel_reservation(self):\n",
        "        customer = Customer(\"John Doe\", \"john@example.com\", \"123456789\")\n",
        "        room_number = 1\n",
        "        start_date = \"2024-02-20\"\n",
        "        end_date = \"2024-02-25\"\n",
        "        reservation = self.hotel.create_reservation(customer, room_number, start_date, end_date)\n",
        "        self.assertTrue(self.hotel.cancel_reservation(reservation))\n",
        "        self.assertNotIn(reservation, self.hotel.reservations)\n",
        "\n",
        "    def test_display_information(self):\n",
        "        expected_information = \"Hotel: Test Hotel, Location: Test Location, Rooms: 10\"\n",
        "        self.assertEqual(self.hotel.display_information(), expected_information)\n",
        "\n",
        "    def test_modify_information(self):\n",
        "        self.hotel.modify_information(name=\"New Test Hotel\", location=\"New Test Location\", rooms=20)\n",
        "        self.assertEqual(self.hotel.name, \"New Test Hotel\")\n",
        "        self.assertEqual(self.hotel.location, \"New Test Location\")\n",
        "        self.assertEqual(self.hotel.rooms, 20)\n",
        "\n",
        "    def test_reserve_room(self):\n",
        "        customer = Customer(\"John Doe\", \"john@example.com\", \"123456789\")\n",
        "        room_number = 1\n",
        "        start_date = \"2024-02-20\"\n",
        "        end_date = \"2024-02-25\"\n",
        "        success, reservation = self.hotel.reserve_room(customer, room_number, start_date, end_date)\n",
        "        self.assertTrue(success)\n",
        "        self.assertIn(reservation, self.hotel.reservations)\n",
        "\n",
        "    def test_cancel_room_reservation(self):\n",
        "        customer = Customer(\"John Doe\", \"john@example.com\", \"123456789\")\n",
        "        room_number = 1\n",
        "        start_date = \"2024-02-20\"\n",
        "        end_date = \"2024-02-25\"\n",
        "        reservation = self.hotel.create_reservation(customer, room_number, start_date, end_date)\n",
        "        self.assertTrue(self.hotel.cancel_room_reservation(reservation))\n",
        "        self.assertNotIn(reservation, self.hotel.reservations)\n",
        "\n",
        "\n",
        "if __name__ == '__main__':\n",
        "    unittest.main()\n",
        ""
      ]
    }
  ]
}