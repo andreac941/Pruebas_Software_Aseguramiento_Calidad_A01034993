{
  "nbformat": 4,
  "nbformat_minor": 0,
  "metadata": {
    "colab": {
      "provenance": [],
      "authorship_tag": "ABX9TyOhpQnmp5UX0Tw/J7PJzL1/",
      "include_colab_link": true
    },
    "kernelspec": {
      "name": "python3",
      "display_name": "Python 3"
    },
    "language_info": {
      "name": "python"
    }
  },
  "cells": [
    {
      "cell_type": "markdown",
      "metadata": {
        "id": "view-in-github",
        "colab_type": "text"
      },
      "source": [
        "<a href=\"https://colab.research.google.com/github/andreac941/Pruebas_Software_Aseguramiento_Calidad_A01034993/blob/main/test_customer.ipynb\" target=\"_parent\"><img src=\"https://colab.research.google.com/assets/colab-badge.svg\" alt=\"Open In Colab\"/></a>"
      ]
    },
    {
      "cell_type": "code",
      "execution_count": null,
      "metadata": {
        "id": "S1NR_9V-1yfA"
      },
      "outputs": [],
      "source": [
        "import unittest\n",
        "from hotel_management import Hotel, Reservation, Customer\n",
        "\n",
        "\n",
        "class TestCustomerMethods(unittest.TestCase):\n",
        "    def setUp(self):\n",
        "        self.customer = Customer(\"John Doe\", \"john@example.com\", \"123456789\")\n",
        "\n",
        "    def test_create_customer(self):\n",
        "        self.assertEqual(self.customer.name, \"John Doe\")\n",
        "        self.assertEqual(self.customer.email, \"john@example.com\")\n",
        "        self.assertEqual(self.customer.phone, \"123456789\")\n",
        "\n",
        "    def test_delete_customer(self):\n",
        "        initial_count = len(Customer.all_customers)\n",
        "        self.customer.delete_customer()\n",
        "        self.assertNotIn(self.customer, Customer.all_customers)\n",
        "        self.assertEqual(len(Customer.all_customers), initial_count - 1)\n",
        "\n",
        "    def test_display_information(self):\n",
        "        expected_information = \"Name: John Doe, Email: john@example.com, Phone: 123456789\"\n",
        "        self.assertEqual(self.customer.display_information(), expected_information)\n",
        "\n",
        "    def test_modify_information(self):\n",
        "        self.customer.modify_information(name=\"Jane Doe\", email=\"jane@example.com\", phone=\"987654321\")\n",
        "        self.assertEqual(self.customer.name, \"Jane Doe\")\n",
        "        self.assertEqual(self.customer.email, \"jane@example.com\")\n",
        "        self.assertEqual(self.customer.phone, \"987654321\")\n",
        "\n",
        "\n",
        "if __name__ == '__main__':\n",
        "    unittest.main()\n"
      ]
    }
  ]
}