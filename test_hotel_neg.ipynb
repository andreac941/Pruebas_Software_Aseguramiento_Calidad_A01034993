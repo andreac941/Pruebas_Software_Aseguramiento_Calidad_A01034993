{
  "nbformat": 4,
  "nbformat_minor": 0,
  "metadata": {
    "colab": {
      "provenance": [],
      "authorship_tag": "ABX9TyMPUdtISKKmnVntJJTLMrJT",
      "include_colab_link": true
    },
    "kernelspec": {
      "name": "python3",
      "display_name": "Python 3"
    },
    "language_info": {
      "name": "python"
    }
  },
  "cells": [
    {
      "cell_type": "markdown",
      "metadata": {
        "id": "view-in-github",
        "colab_type": "text"
      },
      "source": [
        "<a href=\"https://colab.research.google.com/github/andreac941/Pruebas_Software_Aseguramiento_Calidad_A01034993/blob/main/test_hotel_neg.ipynb\" target=\"_parent\"><img src=\"https://colab.research.google.com/assets/colab-badge.svg\" alt=\"Open In Colab\"/></a>"
      ]
    },
    {
      "cell_type": "code",
      "execution_count": null,
      "metadata": {
        "id": "S1NR_9V-1yfA"
      },
      "outputs": [],
      "source": [
        "import unittest\n",
        "from hotel_management import Hotel, Reservation, Customer\n",
        "\n",
        "\n",
        "class TestHotelNegativeCases(unittest.TestCase):\n",
        "    def setUp(self):\n",
        "        self.hotel = Hotel(\"Test Hotel\", \"Test Location\", 1)\n",
        "        self.customer = Customer(\"John Doe\", \"john@example.com\", \"123456789\")\n",
        "        self.reservation = self.hotel.create_reservation(self.customer, room_number=1, start_date=\"2024-02-20\", end_date=\"2024-02-25\")\n",
        "\n",
        "    def test_create_reservation_invalid_room_number(self):\n",
        "        # Try to create a reservation with an invalid room number\n",
        "        with self.assertRaises(ValueError):\n",
        "            self.hotel.create_reservation(self.customer, room_number=2, start_date=\"2024-02-20\", end_date=\"2024-02-25\")\n",
        "\n",
        "    def test_create_reservation_invalid_start_date(self):\n",
        "        # Try to create a reservation with an invalid start date\n",
        "        with self.assertRaises(ValueError):\n",
        "            self.hotel.create_reservation(self.customer, room_number=1, start_date=\"2023-02-20\", end_date=\"2024-02-25\")\n",
        "\n",
        "    def test_create_reservation_invalid_end_date(self):\n",
        "        # Try to create a reservation with an invalid end date\n",
        "        with self.assertRaises(ValueError):\n",
        "            self.hotel.create_reservation(self.customer, room_number=1, start_date=\"2024-02-20\", end_date=\"2024-01-25\")\n",
        "\n",
        "    def test_create_reservation_no_available_rooms(self):\n",
        "        # Try to create a reservation when there are no available rooms\n",
        "        hotel = Hotel(\"Test Hotel\", \"Test Location\", 0)\n",
        "        with self.assertRaises(ValueError):\n",
        "            hotel.create_reservation(self.customer, room_number=1, start_date=\"2024-02-20\", end_date=\"2024-02-25\")\n",
        "\n",
        "    def test_cancel_reservation_reservation_not_exists(self):\n",
        "        # Try to cancel a reservation that does not exist\n",
        "        reservation = Reservation(self.customer, self.hotel, room_number=2, start_date=\"2024-02-20\", end_date=\"2024-02-25\")\n",
        "        self.assertFalse(self.hotel.cancel_reservation(reservation))\n",
        "\n",
        "    def test_cancel_reservation_already_canceled(self):\n",
        "        # Try to cancel a reservation that has already been canceled\n",
        "        self.reservation.cancel_reservation()\n",
        "        self.assertFalse(self.reservation.cancel_reservation())\n",
        "\n",
        "    def test_reserve_room_already_reserved(self):\n",
        "        # Try to reserve a room that is already reserved for the given period\n",
        "        with self.assertRaises(ValueError):\n",
        "            self.hotel.reserve_room(self.customer, room_number=1, start_date=\"2024-02-20\", end_date=\"2024-02-25\")\n",
        "\n",
        "    def test_reserve_room_invalid_start_date(self):\n",
        "        # Try to reserve a room with an invalid start date\n",
        "        with self.assertRaises(ValueError):\n",
        "            self.hotel.reserve_room(self.customer, room_number=1, start_date=\"2023-02-20\", end_date=\"2024-02-25\")\n",
        "\n",
        "    def test_reserve_room_invalid_end_date(self):\n",
        "        # Try to reserve a room with an invalid end date\n",
        "        with self.assertRaises(ValueError):\n",
        "            self.hotel.reserve_room(self.customer, room_number=1, start_date=\"2024-02-20\", end_date=\"2024-01-25\")\n",
        "\n",
        "    def test_reserve_room_no_available_rooms(self):\n",
        "        # Try to reserve a room when there are no available rooms\n",
        "        hotel = Hotel(\"Test Hotel\", \"Test Location\", 0)\n",
        "        with self.assertRaises(ValueError):\n",
        "            hotel.reserve_room(self.customer, room_number=1, start_date=\"2024-02-20\", end_date=\"2024-02-25\")\n",
        "\n",
        "    def test_cancel_room_reservation_reservation_not_exists(self):\n",
        "        # Try to cancel a room reservation that does not exist\n",
        "        reservation = Reservation(self.customer, self.hotel, room_number=2, start_date=\"2024-02-20\", end_date=\"2024-02-25\")\n",
        "        self.assertFalse(self.hotel.cancel_room_reservation(reservation))\n",
        "\n",
        "    def test_cancel_room_reservation_room_not_reserved(self):\n",
        "        # Try to cancel a room reservation for a room that has not been reserved\n",
        "        reservation = Reservation(self.customer, self.hotel, room_number=1, start_date=\"2024-02-20\", end_date=\"2024-02-25\")\n",
        "        self.assertTrue(self.hotel.cancel_reservation(reservation))\n",
        "        self.assertFalse(self.hotel.cancel_room_reservation(reservation))\n",
        "\n",
        "\n",
        "if __name__ == '__main__':\n",
        "    unittest.main()\n"
      ]
    }
  ]
}