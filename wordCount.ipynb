{
  "nbformat": 4,
  "nbformat_minor": 0,
  "metadata": {
    "colab": {
      "provenance": [],
      "authorship_tag": "ABX9TyNWvYE50BA40RK0y7IEJAom",
      "include_colab_link": true
    },
    "kernelspec": {
      "name": "python3",
      "display_name": "Python 3"
    },
    "language_info": {
      "name": "python"
    }
  },
  "cells": [
    {
      "cell_type": "markdown",
      "metadata": {
        "id": "view-in-github",
        "colab_type": "text"
      },
      "source": [
        "<a href=\"https://colab.research.google.com/github/andreac941/Pruebas_Software_Aseguramiento_Calidad_A01034993/blob/main/wordCount.ipynb\" target=\"_parent\"><img src=\"https://colab.research.google.com/assets/colab-badge.svg\" alt=\"Open In Colab\"/></a>"
      ]
    },
    {
      "cell_type": "code",
      "execution_count": null,
      "metadata": {
        "id": "4avlLqKI7p2e"
      },
      "outputs": [],
      "source": [
        "import sys\n",
        "import time\n",
        "\n",
        "def count_words(file_path):\n",
        "    try:\n",
        "        with open(file_path, 'r', encoding='utf-8') as file:\n",
        "            words = file.read().split()\n",
        "    except FileNotFoundError:\n",
        "        print(f\"Error: File '{file_path}' not found.\")\n",
        "        return None\n",
        "    except Exception as e:\n",
        "        print(f\"Error reading file: {e}\")\n",
        "        return None\n",
        "\n",
        "    word_count = {}\n",
        "    for word in words:\n",
        "        # Remove non-alphanumeric characters from the word\n",
        "        cleaned_word = ''.join(char.lower() for char in word if char.isalnum())\n",
        "        if cleaned_word:\n",
        "            word_count[cleaned_word] = word_count.get(cleaned_word, 0) + 1\n",
        "\n",
        "    return word_count\n",
        "\n",
        "def print_and_save_results(word_count, elapsed_time):\n",
        "    # Print results on the console\n",
        "    print(\"Word Count Results:\")\n",
        "    for word, count in word_count.items():\n",
        "        print(f\"{word}: {count}\")\n",
        "\n",
        "    # Save results to WordCountResults.txt\n",
        "    with open(\"WordCountResults.txt\", 'w', encoding='utf-8') as results_file:\n",
        "        results_file.write(\"Word Count Results:\\n\")\n",
        "        for word, count in word_count.items():\n",
        "            results_file.write(f\"{word}: {count}\\n\")\n",
        "\n",
        "    # Print elapsed time\n",
        "    print(f\"\\nTime Elapsed: {elapsed_time:.5f} seconds\")\n",
        "    # Save elapsed time to WordCountResults.txt\n",
        "    with open(\"WordCountResults.txt\", 'a', encoding='utf-8') as results_file:\n",
        "        results_file.write(f\"\\nTime Elapsed: {elapsed_time:.5f} seconds\")\n",
        "\n",
        "def main():\n",
        "    if len(sys.argv) != 2:\n",
        "        print(\"Usage: python wordCount.py fileWithData.txt\")\n",
        "        sys.exit(1)\n",
        "\n",
        "    file_path = sys.argv[1]\n",
        "\n",
        "    start_time = time.time()\n",
        "\n",
        "    word_count = count_words(file_path)\n",
        "\n",
        "    end_time = time.time()\n",
        "    elapsed_time = end_time - start_time\n",
        "\n",
        "    if word_count is not None:\n",
        "        print_and_save_results(word_count, elapsed_time)\n",
        "\n",
        "if __name__ == \"__main__\":\n",
        "    main()"
      ]
    }
  ]
}