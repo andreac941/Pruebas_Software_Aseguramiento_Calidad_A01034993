{
  "nbformat": 4,
  "nbformat_minor": 0,
  "metadata": {
    "colab": {
      "provenance": [],
      "authorship_tag": "ABX9TyMMmPqoIKFocOQYScxQp5Di",
      "include_colab_link": true
    },
    "kernelspec": {
      "name": "python3",
      "display_name": "Python 3"
    },
    "language_info": {
      "name": "python"
    }
  },
  "cells": [
    {
      "cell_type": "markdown",
      "metadata": {
        "id": "view-in-github",
        "colab_type": "text"
      },
      "source": [
        "<a href=\"https://colab.research.google.com/github/andreac941/Pruebas_Software_Aseguramiento_Calidad_A01034993/blob/main/A01034993_A6.2/test_customer_neg.ipynb\" target=\"_parent\"><img src=\"https://colab.research.google.com/assets/colab-badge.svg\" alt=\"Open In Colab\"/></a>"
      ]
    },
    {
      "cell_type": "code",
      "execution_count": null,
      "metadata": {
        "id": "S1NR_9V-1yfA"
      },
      "outputs": [],
      "source": [
        "import unittest\n",
        "from hotel_management import Hotel, Reservation, Customer\n",
        "\n",
        "\n",
        "class TestCustomerNegativeCases(unittest.TestCase):\n",
        "    def test_create_customer_invalid_email(self):\n",
        "        # Try to create a customer with an invalid email format\n",
        "        with self.assertRaises(ValueError):\n",
        "            Customer.create_customer(name=\"John Doe\", email=\"invalid_email\", phone=\"123456789\")\n",
        "\n",
        "    def test_create_customer_missing_information(self):\n",
        "        # Try to create a customer with missing information\n",
        "        with self.assertRaises(ValueError):\n",
        "            Customer.create_customer(name=None, email=\"john@example.com\", phone=\"123456789\")\n",
        "\n",
        "    def test_delete_customer_not_exist(self):\n",
        "        # Try to delete a customer that does not exist\n",
        "        customer = Customer(\"John Doe\", \"john@example.com\", \"123456789\")\n",
        "        Customer.all_customers.remove(customer)  # Remove the customer to simulate non-existence\n",
        "        with self.assertRaises(ValueError):\n",
        "            customer.delete_customer()\n",
        "\n",
        "    def test_modify_information_invalid_email(self):\n",
        "        # Try to modify customer information with an invalid email format\n",
        "        customer = Customer(\"John Doe\", \"john@example.com\", \"123456789\")\n",
        "        with self.assertRaises(ValueError):\n",
        "            customer.modify_information(email=\"invalid_email\")\n",
        "\n",
        "    def test_modify_information_customer_not_exist(self):\n",
        "        # Try to modify customer information for a customer that does not exist\n",
        "        customer = Customer(\"John Doe\", \"john@example.com\", \"123456789\")\n",
        "        Customer.all_customers.remove(customer)  # Remove the customer to simulate non-existence\n",
        "        with self.assertRaises(ValueError):\n",
        "            customer.modify_information(name=\"Jane Doe\")\n",
        "\n",
        "\n",
        "if __name__ == '__main__':\n",
        "    unittest.main()\n"
      ]
    }
  ]
}