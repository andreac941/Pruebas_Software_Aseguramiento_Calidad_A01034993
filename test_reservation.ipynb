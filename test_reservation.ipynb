{
  "nbformat": 4,
  "nbformat_minor": 0,
  "metadata": {
    "colab": {
      "provenance": [],
      "authorship_tag": "ABX9TyOF8ynfBy0ex4As+7yYhcXL",
      "include_colab_link": true
    },
    "kernelspec": {
      "name": "python3",
      "display_name": "Python 3"
    },
    "language_info": {
      "name": "python"
    }
  },
  "cells": [
    {
      "cell_type": "markdown",
      "metadata": {
        "id": "view-in-github",
        "colab_type": "text"
      },
      "source": [
        "<a href=\"https://colab.research.google.com/github/andreac941/Pruebas_Software_Aseguramiento_Calidad_A01034993/blob/main/test_reservation.ipynb\" target=\"_parent\"><img src=\"https://colab.research.google.com/assets/colab-badge.svg\" alt=\"Open In Colab\"/></a>"
      ]
    },
    {
      "cell_type": "code",
      "execution_count": null,
      "metadata": {
        "id": "S1NR_9V-1yfA"
      },
      "outputs": [],
      "source": [
        "import unittest\n",
        "from hotel_management import Hotel, Reservation, Customer\n",
        "\n",
        "\n",
        "class TestReservationMethods(unittest.TestCase):\n",
        "    def setUp(self):\n",
        "        customer = Customer(\"John Doe\", \"john@example.com\", \"123456789\")\n",
        "        hotel = Hotel(\"Test Hotel\", \"Test Location\", 10)\n",
        "        self.reservation = Reservation(customer, hotel, room_number=1, start_date=\"2024-02-20\", end_date=\"2024-02-25\")\n",
        "\n",
        "    def test_create_reservation(self):\n",
        "        self.assertEqual(self.reservation.customer.name, \"John Doe\")\n",
        "        self.assertEqual(self.reservation.hotel.name, \"Test Hotel\")\n",
        "        self.assertEqual(self.reservation.room_number, 1)\n",
        "        self.assertEqual(self.reservation.start_date, \"2024-02-20\")\n",
        "        self.assertEqual(self.reservation.end_date, \"2024-02-25\")\n",
        "\n",
        "    def test_cancel_reservation(self):\n",
        "        success, message = self.reservation.cancel_reservation()\n",
        "        self.assertTrue(success)\n",
        "        self.assertTrue(self.reservation.is_canceled())\n",
        "        self.assertEqual(message, \"Reservation successfully canceled\")\n",
        "\n",
        "    def test_is_canceled(self):\n",
        "        self.assertFalse(self.reservation.is_canceled())\n",
        "        self.reservation.cancel_reservation()\n",
        "        self.assertTrue(self.reservation.is_canceled())\n",
        "\n",
        "\n",
        "if __name__ == '__main__':\n",
        "    unittest.main()\n"
      ]
    }
  ]
}