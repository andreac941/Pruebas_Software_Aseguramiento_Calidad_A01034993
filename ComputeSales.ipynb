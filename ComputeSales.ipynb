{
  "nbformat": 4,
  "nbformat_minor": 0,
  "metadata": {
    "colab": {
      "provenance": [],
      "authorship_tag": "ABX9TyPF/8owST1oyBWWiVQM6efS",
      "include_colab_link": true
    },
    "kernelspec": {
      "name": "python3",
      "display_name": "Python 3"
    },
    "language_info": {
      "name": "python"
    }
  },
  "cells": [
    {
      "cell_type": "markdown",
      "metadata": {
        "id": "view-in-github",
        "colab_type": "text"
      },
      "source": [
        "<a href=\"https://colab.research.google.com/github/andreac941/Pruebas_Software_Aseguramiento_Calidad_A01034993/blob/main/ComputeSales.ipynb\" target=\"_parent\"><img src=\"https://colab.research.google.com/assets/colab-badge.svg\" alt=\"Open In Colab\"/></a>"
      ]
    },
    {
      "cell_type": "markdown",
      "source": [
        "**VERSIÓN PARA COMMAND PROMPT**"
      ],
      "metadata": {
        "id": "axS5qZ5aBgE0"
      }
    },
    {
      "cell_type": "code",
      "execution_count": null,
      "metadata": {
        "id": "TfpDllgKA3st"
      },
      "outputs": [],
      "source": [
        "import json\n",
        "import sys\n",
        "import time\n",
        "\n",
        "def main():\n",
        "    if len(sys.argv) != 3:\n",
        "        print(\"Usage: python computeSales.py priceCatalogue.json salesRecord.json\")\n",
        "        sys.exit(1)\n",
        "\n",
        "    try:\n",
        "        with open(sys.argv[1], 'r') as price_catalogue_file:\n",
        "            price_catalogue = json.load(price_catalogue_file)\n",
        "    except Exception as e:\n",
        "        print(f\"Error reading price catalog file: {e}\")\n",
        "        sys.exit(1)\n",
        "\n",
        "    try:\n",
        "        with open(sys.argv[2], 'r') as sales_record_file:\n",
        "            sales_record = json.load(sales_record_file)\n",
        "    except Exception as e:\n",
        "        print(f\"Error reading sales record file: {e}\")\n",
        "        sys.exit(1)\n",
        "\n",
        "    start_time = time.time()\n",
        "\n",
        "    total_cost = 0\n",
        "    for sale in sales_record:\n",
        "        try:\n",
        "            product_id = sale['product_id']\n",
        "            quantity = sale['quantity']\n",
        "            price = price_catalogue[product_id]['price']\n",
        "            total_cost += price * quantity\n",
        "        except KeyError as e:\n",
        "            print(f\"Error processing sale: {e}\")\n",
        "\n",
        "    elapsed_time = time.time() - start_time\n",
        "\n",
        "    print(f\"Total cost: {total_cost}\\nElapsed time: {elapsed_time} seconds\")\n",
        "\n",
        "    with open(\"SalesResults.txt\", \"w\") as results_file:\n",
        "        results_file.write(f\"Total cost: {total_cost}\\nElapsed time: {elapsed_time} seconds\")\n",
        "\n",
        "if __name__ == \"__main__\":\n",
        "    main()\n",
        "\n",
        "    #python computeSales.py priceCatalogue.json salesRecord.json"
      ]
    },
    {
      "cell_type": "code",
      "source": [
        "import json\n",
        "import sys\n",
        "from io import StringIO\n",
        "import time\n",
        "\n",
        "\n",
        "def main(price_catalogue_path, sales_record_path):\n",
        "    try:\n",
        "        with open(price_catalogue_path, 'r') as price_catalogue_file:\n",
        "            price_catalogue_list = json.load(price_catalogue_file)\n",
        "    except Exception as e:\n",
        "        print(f\"Error reading price catalog file: {e}\")\n",
        "        return\n",
        "\n",
        "    try:\n",
        "        with open(sales_record_path, 'r') as sales_record_file:\n",
        "            sales_record = json.load(sales_record_file)\n",
        "    except Exception as e:\n",
        "        print(f\"Error reading sales record file: {e}\")\n",
        "        return\n",
        "\n",
        "    price_catalogue = {product[\"title\"]: product for product in price_catalogue_list}\n",
        "\n",
        "    start_time = time.time()\n",
        "\n",
        "    total_cost = 0\n",
        "    for sale in sales_record:\n",
        "        try:\n",
        "            product_title = sale['Product']\n",
        "            quantity = sale['Quantity']\n",
        "            price = price_catalogue[product_title]['price']\n",
        "            total_cost += price * quantity\n",
        "        except KeyError as e:\n",
        "            print(f\"Error processing sale: {e}\")\n",
        "\n",
        "    elapsed_time = time.time() - start_time\n",
        "\n",
        "    print(f\"Total cost: {total_cost}\\nElapsed time: {elapsed_time} seconds\")\n",
        "\n",
        "    with open(\"SalesResults.txt\", \"w\") as results_file:\n",
        "        results_file.write(f\"Total cost: {total_cost}\\nElapsed time: {elapsed_time} seconds\")\n",
        "\n",
        "\n",
        "main(\"TC1.ProductList.json\", \"TC1.Sales.json\")"
      ],
      "metadata": {
        "colab": {
          "base_uri": "https://localhost:8080/"
        },
        "id": "OKqzeMTfBfZ8",
        "outputId": "6bc7516b-7b47-4a12-c3cb-b2dcd986bb80"
      },
      "execution_count": 2,
      "outputs": [
        {
          "output_type": "stream",
          "name": "stdout",
          "text": [
            "Total cost: 2481.8600000000006\n",
            "Elapsed time: 2.3126602172851562e-05 seconds\n"
          ]
        }
      ]
    },
    {
      "cell_type": "code",
      "source": [
        "main(\"TC1.ProductList.json\", \"TC2.Sales.json\")"
      ],
      "metadata": {
        "id": "01sG1YVhD4sU",
        "outputId": "d0fbeb98-119b-41e0-ebb4-12221ea782f6",
        "colab": {
          "base_uri": "https://localhost:8080/"
        }
      },
      "execution_count": 3,
      "outputs": [
        {
          "output_type": "stream",
          "name": "stdout",
          "text": [
            "Total cost: 166568.22999999998\n",
            "Elapsed time: 3.3855438232421875e-05 seconds\n"
          ]
        }
      ]
    },
    {
      "cell_type": "code",
      "source": [
        "main(\"TC1.ProductList.json\", \"TC3.Sales.json\")"
      ],
      "metadata": {
        "id": "60xkfZp3EVac",
        "outputId": "21716eed-a847-4ef9-f48a-5db865ccf7be",
        "colab": {
          "base_uri": "https://localhost:8080/"
        }
      },
      "execution_count": 4,
      "outputs": [
        {
          "output_type": "stream",
          "name": "stdout",
          "text": [
            "Error processing sale: 'Elotes'\n",
            "Error processing sale: 'Frijoles'\n",
            "Total cost: 165235.37\n",
            "Elapsed time: 0.0009453296661376953 seconds\n"
          ]
        }
      ]
    }
  ]
}