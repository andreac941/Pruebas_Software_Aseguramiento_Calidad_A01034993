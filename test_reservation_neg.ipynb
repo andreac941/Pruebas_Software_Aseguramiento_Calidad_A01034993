{
  "nbformat": 4,
  "nbformat_minor": 0,
  "metadata": {
    "colab": {
      "provenance": [],
      "authorship_tag": "ABX9TyONDbPdRIM/c9TD4uml5Tey",
      "include_colab_link": true
    },
    "kernelspec": {
      "name": "python3",
      "display_name": "Python 3"
    },
    "language_info": {
      "name": "python"
    }
  },
  "cells": [
    {
      "cell_type": "markdown",
      "metadata": {
        "id": "view-in-github",
        "colab_type": "text"
      },
      "source": [
        "<a href=\"https://colab.research.google.com/github/andreac941/Pruebas_Software_Aseguramiento_Calidad_A01034993/blob/main/test_reservation_neg.ipynb\" target=\"_parent\"><img src=\"https://colab.research.google.com/assets/colab-badge.svg\" alt=\"Open In Colab\"/></a>"
      ]
    },
    {
      "cell_type": "code",
      "execution_count": null,
      "metadata": {
        "id": "S1NR_9V-1yfA"
      },
      "outputs": [],
      "source": [
        "import unittest\n",
        "from hotel_management import Hotel, Reservation, Customer\n",
        "\n",
        "\n",
        "class TestReservationNegativeCases(unittest.TestCase):\n",
        "    def setUp(self):\n",
        "        self.customer = Customer(\"John Doe\", \"john@example.com\", \"123456789\")\n",
        "        self.hotel = Hotel(\"Test Hotel\", \"Test Location\", 10)\n",
        "        self.reservation = Reservation(self.customer, self.hotel, room_number=1, start_date=\"2024-02-20\", end_date=\"2024-02-25\")\n",
        "\n",
        "    def test_create_reservation_invalid_start_date(self):\n",
        "        # Try to create a reservation with an invalid start date\n",
        "        with self.assertRaises(ValueError) as context:\n",
        "            Reservation.create_reservation(self.customer, self.hotel, room_number=1, start_date=\"2023-02-20\", end_date=\"2024-02-25\")\n",
        "        self.assertEqual(str(context.exception), \"Invalid start date. Start date must be in the future.\")\n",
        "\n",
        "    def test_create_reservation_invalid_end_date(self):\n",
        "        # Try to create a reservation with an invalid end date\n",
        "        with self.assertRaises(ValueError) as context:\n",
        "            Reservation.create_reservation(self.customer, self.hotel, room_number=1, start_date=\"2024-02-20\", end_date=\"2024-01-25\")\n",
        "        self.assertEqual(str(context.exception), \"Invalid end date. End date must be in the future and after the start date.\")\n",
        "\n",
        "    def test_cancel_reservation_already_canceled(self):\n",
        "        # Try to cancel a reservation that has already been canceled\n",
        "        self.reservation.cancel_reservation()\n",
        "        with self.assertRaises(ValueError):\n",
        "            self.reservation.cancel_reservation()\n",
        "\n",
        "\n",
        "if __name__ == '__main__':\n",
        "    unittest.main()\n"
      ]
    }
  ]
}